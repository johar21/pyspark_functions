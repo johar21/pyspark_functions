{
 "cells": [
  {
   "cell_type": "code",
   "execution_count": 25,
   "id": "8fc8e148-4f39-4479-8b67-f0cfac792dd4",
   "metadata": {},
   "outputs": [],
   "source": [
    "from pyspark.sql.session import SparkSession\n",
    "from pyspark.sql.functions import *"
   ]
  },
  {
   "cell_type": "code",
   "execution_count": 26,
   "id": "fd0601ba-f45b-4cbd-8cb7-de3d26e85442",
   "metadata": {},
   "outputs": [],
   "source": [
    "spark=SparkSession.builder.appName('functions').getOrCreate()"
   ]
  },
  {
   "cell_type": "code",
   "execution_count": 33,
   "id": "3639c113-d491-4a80-8308-5fe02313d50b",
   "metadata": {},
   "outputs": [],
   "source": [
    "data_value=[('1','1000'),('1','1000'),('1','1002'),('2','1003'),('2','1004'),('2','1003')]"
   ]
  },
  {
   "cell_type": "code",
   "execution_count": 34,
   "id": "e6d6c52a-8bdc-48fa-b1ad-b2c5062d400a",
   "metadata": {},
   "outputs": [],
   "source": [
    "schema=['no','count']"
   ]
  },
  {
   "cell_type": "code",
   "execution_count": 35,
   "id": "17e5079e-bc5d-4454-a4b8-d4e76c7b1b2b",
   "metadata": {},
   "outputs": [],
   "source": [
    "df1=spark.createDataFrame(data=data_value,schema=schema)"
   ]
  },
  {
   "cell_type": "code",
   "execution_count": 36,
   "id": "e94d85d9-ff76-4580-bc59-ff69bc8f76bc",
   "metadata": {},
   "outputs": [
    {
     "name": "stdout",
     "output_type": "stream",
     "text": [
      "+---+-----+\n",
      "| no|count|\n",
      "+---+-----+\n",
      "|  1| 1000|\n",
      "|  1| 1000|\n",
      "|  1| 1002|\n",
      "|  2| 1003|\n",
      "|  2| 1004|\n",
      "|  2| 1003|\n",
      "+---+-----+\n",
      "\n"
     ]
    }
   ],
   "source": [
    "df1.show()"
   ]
  },
  {
   "cell_type": "code",
   "execution_count": 41,
   "id": "151155ff-7ad4-44aa-9229-648ab6a4a855",
   "metadata": {},
   "outputs": [],
   "source": [
    "agg_df=df1.groupby('no').agg(array_distinct(collect_list('count')))"
   ]
  },
  {
   "cell_type": "code",
   "execution_count": 42,
   "id": "001e950e-7851-4945-ac76-bc2587198a9a",
   "metadata": {},
   "outputs": [
    {
     "name": "stdout",
     "output_type": "stream",
     "text": [
      "+---+-----------------------------------+\n",
      "| no|array_distinct(collect_list(count))|\n",
      "+---+-----------------------------------+\n",
      "|  1|                       [1000, 1002]|\n",
      "|  2|                       [1003, 1004]|\n",
      "+---+-----------------------------------+\n",
      "\n"
     ]
    }
   ],
   "source": [
    "agg_df.show()"
   ]
  },
  {
   "cell_type": "code",
   "execution_count": null,
   "id": "ea9254f1-995f-404a-b78c-ada58de81097",
   "metadata": {},
   "outputs": [],
   "source": []
  }
 ],
 "metadata": {
  "kernelspec": {
   "display_name": "Python 3 (ipykernel)",
   "language": "python",
   "name": "python3"
  },
  "language_info": {
   "codemirror_mode": {
    "name": "ipython",
    "version": 3
   },
   "file_extension": ".py",
   "mimetype": "text/x-python",
   "name": "python",
   "nbconvert_exporter": "python",
   "pygments_lexer": "ipython3",
   "version": "3.11.4"
  }
 },
 "nbformat": 4,
 "nbformat_minor": 5
}
